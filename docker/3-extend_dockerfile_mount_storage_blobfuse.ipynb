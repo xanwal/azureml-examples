{
 "cells": [
  {
   "cell_type": "markdown",
   "metadata": {},
   "source": [
    "# Extend container image to mount blob storage using Blobfuse"
   ]
  },
  {
   "cell_type": "markdown",
   "metadata": {},
   "source": [
    "In this example we extend an Azure-curated container image to mount an blob storage container. We then deploy the container as part of a managed online deployment to run an inference server using a trained model stored in the blob container. "
   ]
  },
  {
   "cell_type": "markdown",
   "metadata": {},
   "source": [
    "## Prerequisites"
   ]
  },
  {
   "cell_type": "markdown",
   "metadata": {},
   "source": [
    "* To use Azure Machine Learning, you must have an Azure subscription. If you don't have an Azure subscription, create a free account before you begin. Try the [free or paid version of Azure Machine Learning](https://azure.microsoft.com/free/).\n",
    "\n",
    "* Install and configure the [Python SDK v2](sdk/setup.sh).\n",
    "\n",
    "* You must have an Azure resource group, and you (or the service principal you use) must have Contributor access to it.\n",
    "\n",
    "* You must have an Azure Machine Learning workspace. \n",
    "\n",
    "* You must have an Azure Secure Container registry. One is created automatically created for a workspace without one upon first usage, however in this example we explicitly reference the container registry by name, so you need it beforehand. You can create one through the Azure Portal."
   ]
  },
  {
   "cell_type": "markdown",
   "metadata": {},
   "source": [
    "## Initial set up"
   ]
  },
  {
   "cell_type": "markdown",
   "metadata": {},
   "source": [
    "### Set parameters"
   ]
  },
  {
   "cell_type": "code",
   "execution_count": 1,
   "metadata": {},
   "outputs": [],
   "source": [
    "subscription_id = '<YOUR_SUBSCRIPTION_ID>'\n",
    "resource_group = '<YOUR_RESOURCE_GROUP>'\n",
    "workspace = '<YOUR_WORKSPACE>'\n",
    "container_registry_name = '<YOUR_CONTAINER_REGISTRY>'\n",
    "storage_account_name = '<YOUR_STORAGE_ACCOUNT_NAME>'\n",
    "\n",
    "base_path = 'resources/sample3/'"
   ]
  },
  {
   "cell_type": "code",
   "execution_count": 2,
   "metadata": {},
   "outputs": [],
   "source": [
    "subscription_id = '6fe1c377-b645-4e8e-b588-52e57cc856b2'\n",
    "resource_group = 'v-alwallace-test'\n",
    "workspace = 'valwallace'\n",
    "container_registry_name = 'valwallaceskr'\n",
    "existing_storage_account_name = 'valwallacestorage'"
   ]
  },
  {
   "cell_type": "markdown",
   "metadata": {},
   "source": [
    "### Get clients"
   ]
  },
  {
   "cell_type": "code",
   "execution_count": 3,
   "metadata": {},
   "outputs": [],
   "source": [
    "import os\n",
    "from azure.ml import MLClient\n",
    "from azure.storage.blob import BlobClient, BlobSasPermissions,BlobServiceClient, ContainerSasPermissions, generate_container_sas\n",
    "from azure.mgmt.storage.v2021_09_01 import StorageManagementClient\n",
    "from azure.mgmt.storage.v2021_09_01.models import StorageAccountCreateParameters, Sku, FileShare, BlobContainer\n",
    "from azure.mgmt.containerregistry.v2021_12_01_preview import ContainerRegistryManagementClient\n",
    "from azure.mgmt.authorization.v2021_03_01_preview import AuthorizationManagementClient\n",
    "from azure.ml.entities import ManagedOnlineDeployment, ManagedOnlineEndpoint\n",
    "from azure.identity import DefaultAzureCredential,InteractiveBrowserCredential\n",
    "from random import randint\n",
    "\n",
    "ml_client = MLClient(DefaultAzureCredential(), subscription_id, resource_group, workspace)\n",
    "storage_client = StorageManagementClient(DefaultAzureCredential(),subscription_id)\n",
    "cr_client = ContainerRegistryManagementClient(DefaultAzureCredential(),subscription_id)\n",
    "auth_client = AuthorizationManagementClient(DefaultAzureCredential(),subscription_id)"
   ]
  },
  {
   "cell_type": "markdown",
   "metadata": {},
   "source": [
    "## Build a Dockerfile with Blobfuse\n",
    "Blobfuse is an Azure-supported FUSE driver that enables compute instances to mount blob and file share resources."
   ]
  },
  {
   "cell_type": "markdown",
   "metadata": {},
   "source": [
    "### Prepare the Blobfuse configuration file fuse_connection.cfg"
   ]
  },
  {
   "cell_type": "markdown",
   "metadata": {},
   "source": [
    "```cfg\n",
    "accountName ACCOUNTNAME\n",
    "accountKey SASTOKEN\n",
    "containerName CONTAINERNAME\n",
    "``` "
   ]
  },
  {
   "cell_type": "markdown",
   "metadata": {},
   "source": [
    "#### Build a Dockerfile with Blobfuse\n",
    "We begin with the no"
   ]
  },
  {
   "cell_type": "code",
   "execution_count": null,
   "metadata": {},
   "outputs": [],
   "source": []
  },
  {
   "cell_type": "markdown",
   "metadata": {},
   "source": [
    "#### Complete Dockerfile example"
   ]
  },
  {
   "cell_type": "markdown",
   "metadata": {},
   "source": [
    "```Dockerfile \n",
    "FROM mcr.microsoft.com/azureml/minimal-ubuntu18.04-py37-cpu-inference:latest\n",
    "\n",
    "USER root \n",
    "\n",
    "RUN  apt-get update\n",
    "RUN  apt-get install -y wget apt-utils \n",
    "RUN  wget https://packages.microsoft.com/config/ubuntu/18.04/packages-microsoft-prod.deb\n",
    "RUN  dpkg -i packages-microsoft-prod.deb \n",
    "RUN  apt-get remove -y wget \n",
    "RUN  apt-get update \n",
    "RUN  apt-get install -y --no-install-recommends fuse blobfuse libcurl3-gnutls libgnutls30 \n",
    "RUN  rm -rf /var/lib/apt/lists/*\n",
    "\n",
    "ENV BFMOUNT=/mnt/blobfuse\n",
    "ENV BFCONFMOUNT=/etc/blobfuse\n",
    "RUN mkdir \n",
    "RUN mkdir ${BFMOUNT} && chmod 0755 ${BFMOUNT} \n",
    "\n",
    "RUN \n",
    "\n",
    "ENTRYPOINT blobfuse ${BFMOUNT} --use-https=true --config-file=/home/fuse_connection.cfg --tmp-path=/tmp/blobfuse/tmp -o allow_other\n",
    "```"
   ]
  },
  {
   "cell_type": "markdown",
   "metadata": {},
   "source": [
    "### Build and push the Dockerfile to ACR"
   ]
  },
  {
   "cell_type": "code",
   "execution_count": null,
   "metadata": {},
   "outputs": [],
   "source": [
    "!az login \n",
    "!az acr login --name {container_registry_name}\n",
    "!docker build --secret id=FUSECONF,src=fuse_connection.cfg -t  {container_registry_name}.azurecr.io/storage-client . "
   ]
  },
  {
   "cell_type": "markdown",
   "metadata": {},
   "source": [
    "### asdf"
   ]
  },
  {
   "cell_type": "markdown",
   "metadata": {},
   "source": []
  },
  {
   "cell_type": "markdown",
   "metadata": {},
   "source": [
    "### Create an endpoint"
   ]
  },
  {
   "cell_type": "code",
   "execution_count": 13,
   "metadata": {},
   "outputs": [
    {
     "data": {
      "text/plain": [
       "Data({'type': 'uri_folder', 'is_anonymous': True, 'auto_increment_version': False, 'name': '3e7fad21-dcaf-4b31-b2ff-3ef9a4d3093d', 'description': None, 'tags': {}, 'properties': {}, 'id': None, 'base_path': './', 'creation_context': None, 'serialize': <msrest.serialization.Serializer object at 0x7f0c7fee7a90>, 'version': '1', 'latest_version': None, 'path': None})"
      ]
     },
     "execution_count": 13,
     "metadata": {},
     "output_type": "execute_result"
    }
   ],
   "source": [
    "import azure.ml\n",
    "azure.ml.entities.Data()"
   ]
  },
  {
   "cell_type": "code",
   "execution_count": 18,
   "metadata": {},
   "outputs": [
    {
     "data": {
      "text/plain": [
       "Dataset({'is_anonymous': True, 'auto_increment_version': False, 'name': '5ab3ebd2-bbcb-40c6-a895-a200756443ad', 'description': None, 'tags': {}, 'properties': {}, 'id': None, 'base_path': './', 'creation_context': None, 'serialize': <msrest.serialization.Serializer object at 0x7f0c7f502990>, 'version': '1', 'latest_version': None, 'paths': [], 'local_path': None})"
      ]
     },
     "execution_count": 18,
     "metadata": {},
     "output_type": "execute_result"
    }
   ],
   "source": [
    "blob = ml_client.datastores.get_default()\n",
    "azure.ml.entities.Dataset()"
   ]
  },
  {
   "cell_type": "code",
   "execution_count": 36,
   "metadata": {},
   "outputs": [],
   "source": [
    "envs = list(ml_client.environments.list())"
   ]
  },
  {
   "cell_type": "code",
   "execution_count": 40,
   "metadata": {},
   "outputs": [
    {
     "data": {
      "text/plain": [
       "<azure.ml._restclient.v2022_02_01_preview.models._models_py3.SystemData at 0x7f0c7f4d5390>"
      ]
     },
     "execution_count": 40,
     "metadata": {},
     "output_type": "execute_result"
    }
   ],
   "source": [
    "envs[0]."
   ]
  },
  {
   "cell_type": "code",
   "execution_count": null,
   "metadata": {},
   "outputs": [],
   "source": [
    "from random import randint\n",
    "# Required\n",
    "deployment_name = 'docker-storage'\n",
    "container_name = 'docker-storage'\n",
    "# Optional\n",
    "endpoint_name = f'docker-storage-{randint(1e3,1e7)}'\n",
    "\n",
    "endpoint = ManagedOnlineEndpoint(name=endpoint_name)\n",
    "ml_client.online_endpoints.begin_create_or_update(endpoint, local=True)\n",
    "\n",
    "# Check endpoint status\n",
    "print(f'Endpoint Status: {endpoint.provisioning_state}')"
   ]
  }
 ],
 "metadata": {
  "interpreter": {
   "hash": "a36e8de4b7688203bdfb4bd453385c01aaf8e8bcf5e21d19b240831af797b9a9"
  },
  "kernelspec": {
   "display_name": "Python 3.7.13 ('azureml-examples')",
   "language": "python",
   "name": "python3"
  },
  "language_info": {
   "codemirror_mode": {
    "name": "ipython",
    "version": 3
   },
   "file_extension": ".py",
   "mimetype": "text/x-python",
   "name": "python",
   "nbconvert_exporter": "python",
   "pygments_lexer": "ipython3",
   "version": "3.7.13"
  },
  "orig_nbformat": 4
 },
 "nbformat": 4,
 "nbformat_minor": 2
}
