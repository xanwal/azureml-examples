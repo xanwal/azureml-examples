{
 "cells": [
  {
   "cell_type": "code",
   "execution_count": null,
   "metadata": {},
   "outputs": [],
   "source": [
    "import json\n",
    "js = json.load(open('test_data/cat_test.json','r'))"
   ]
  },
  {
   "cell_type": "code",
   "execution_count": null,
   "metadata": {},
   "outputs": [],
   "source": [
    "import numpy as np\n",
    "np_img = np.array(js['image'])"
   ]
  },
  {
   "cell_type": "code",
   "execution_count": null,
   "metadata": {},
   "outputs": [],
   "source": [
    "np_img.astype(np.uint8)"
   ]
  },
  {
   "cell_type": "code",
   "execution_count": null,
   "metadata": {},
   "outputs": [],
   "source": [
    "from PIL import Image\n",
    "pil_img = Image.fromarray(np_img.astype(np.uint8))"
   ]
  },
  {
   "cell_type": "code",
   "execution_count": 103,
   "metadata": {},
   "outputs": [],
   "source": [
    "import pickle\n",
    "import random\n",
    "import shutil\n",
    "import os\n",
    "import itertools"
   ]
  },
  {
   "cell_type": "code",
   "execution_count": null,
   "metadata": {},
   "outputs": [],
   "source": [
    "cat_test['x'].shape"
   ]
  },
  {
   "cell_type": "code",
   "execution_count": 109,
   "metadata": {},
   "outputs": [],
   "source": [
    "def writesamples(ct=5, cat='cats', yes=True):\n",
    "    test = pickle.load(open(f'prep/{cat}/test', 'rb'))\n",
    "    for i in range(ct):\n",
    "        cti = test['x'][random.sample(np.ravel(np.where(test['y']==(1 if yes else 0))).tolist(),1)[0]]\n",
    "        img = Image.fromarray(np.asarray(cti).astype(np.uint8))\n",
    "        suff = 'not_' if not yes else ''\n",
    "        dr = f\"test_data/{suff}{cat}\"\n",
    "        try:\n",
    "            os.makedirs(dr)\n",
    "        except:\n",
    "            pass\n",
    "        pth = f\"{dr}/{i}\"\n",
    "        print(pth)\n",
    "        json.dump({'category' : cat, 'image' : cti.tolist()},open(pth + \".json\",'w')) \n",
    "        img.save(pth+\".png\")"
   ]
  },
  {
   "cell_type": "code",
   "execution_count": 110,
   "metadata": {},
   "outputs": [
    {
     "name": "stdout",
     "output_type": "stream",
     "text": [
      "test_data/cats/0\n",
      "test_data/cats/1\n",
      "test_data/cats/2\n",
      "test_data/cats/3\n",
      "test_data/cats/4\n",
      "test_data/not_cats/0\n",
      "test_data/not_cats/1\n",
      "test_data/not_cats/2\n",
      "test_data/not_cats/3\n",
      "test_data/not_cats/4\n",
      "test_data/horses/0\n",
      "test_data/horses/1\n",
      "test_data/horses/2\n",
      "test_data/horses/3\n",
      "test_data/horses/4\n",
      "test_data/not_horses/0\n",
      "test_data/not_horses/1\n",
      "test_data/not_horses/2\n",
      "test_data/not_horses/3\n",
      "test_data/not_horses/4\n"
     ]
    }
   ],
   "source": [
    "for cat, yes in  itertools.product(('cats', 'horses'),(True, False)):\n",
    "    writesamples(cat=cat, yes=yes)"
   ]
  },
  {
   "cell_type": "code",
   "execution_count": null,
   "metadata": {},
   "outputs": [],
   "source": [
    "cat_test['y'][0]"
   ]
  },
  {
   "cell_type": "code",
   "execution_count": null,
   "metadata": {},
   "outputs": [],
   "source": []
  }
 ],
 "metadata": {
  "interpreter": {
   "hash": "54c30d7fb9f20a3ea4745aefed9d0f9a452523c3fe3df9e662760ebc71f21589"
  },
  "kernelspec": {
   "display_name": "Python 3.9.7 ('base')",
   "language": "python",
   "name": "python3"
  },
  "language_info": {
   "codemirror_mode": {
    "name": "ipython",
    "version": 3
   },
   "file_extension": ".py",
   "mimetype": "text/x-python",
   "name": "python",
   "nbconvert_exporter": "python",
   "pygments_lexer": "ipython3",
   "version": "3.9.12"
  },
  "orig_nbformat": 4
 },
 "nbformat": 4,
 "nbformat_minor": 2
}
