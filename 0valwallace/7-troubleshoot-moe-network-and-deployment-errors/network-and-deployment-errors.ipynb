{
 "cells": [
  {
   "cell_type": "markdown",
   "metadata": {},
   "source": [
    "# Troubleshooting online endpoints deployment and scoring\n",
    "\n",
    "SRC: ['How to troubleshoot online endpoints'](https://docs.microsoft.com/en-us/azure/machine-learning/how-to-troubleshoot-online-endpoints)"
   ]
  },
  {
   "cell_type": "markdown",
   "metadata": {},
   "source": [
    "## Get container logs\n",
    "\n",
    "SRC: ['How to troubleshoot online endpoints'](https://docs.microsoft.com/en-us/azure/machine-learning/how-to-troubleshoot-online-endpoints)\n",
    "\n",
    "If you are using the AML Inference Server, you can increase the logging detail by setting the `AZUREML_LOG_LEVEL` environment variable to `debug` or `notset` (full logging). For custom container deployments with alternative inference servers, logging should be configured to stream to `STDOUT`."
   ]
  },
  {
   "cell_type": "markdown",
   "metadata": {},
   "source": [
    "## Get deployment logs\n",
    "\n",
    "After submitting the deployment operation with `az ml online-deployment create`, the CLI polls Azure for updates until the final result is delivered. Include the `--verbose` flag for additional information and `--debug` to see every call in full detail. \n",
    "\n",
    "The operation result will include an error message in case of failure. Common error messages and debugging tips are described below. The operation result will available at the deployment's AzureAsyncOperationUri and can be called with the following command:"
   ]
  },
  {
   "cell_type": "markdown",
   "metadata": {},
   "source": [
    "```bash\n",
    "DEPLOYMENT_NAME=\"<YOUR_DEPLOYMENT_NAME>\"\n",
    "ENDPOINT_NAME=\"<YOUR_ENDPOINT_NAME>\"\n",
    "async=`az ml online-deployment show -n $DEPLOYMENT_NAME --endpoint-name $ENDPOINT_NAME --query properties.AzureAsyncOperationUri -o tsv`\n",
    "az rest -m get --url $async\n",
    "```\n",
    "\n",
    "[Azure Activity Log](/azure/azure-monitor/essentials/activity-log) can be configured to save, track, and query deployment logs."
   ]
  },
  {
   "cell_type": "markdown",
   "metadata": {},
   "source": [
    "## Request tracing \n",
    "\n",
    "SRC: \n",
    "['How to troubleshoot online endpoints'](https://docs.microsoft.com/en-us/azure/machine-learning/how-to-troubleshoot-online-endpoints) \n",
    "\n",
    "\n",
    "### App Insights\n",
    "\n",
    "For advanced request tracing and log consumption, see [How to Enable App Insights](https://docs.microsoft.com/en-us/azure/machine-learning/how-to-enable-app-insights). App insights can be enabled by setting `app_insights_enabled` in the Online Deployment YAML file. To use app insights with the AML Inference Server, the environment variable `AML_APP_INSIGHTS_KEY` must be provided. "
   ]
  },
  {
   "cell_type": "markdown",
   "metadata": {},
   "source": [
    "## Common deployment errors\n",
    "### ResourceNotReady\n",
    "SRC: ['How to troubleshoot online endpoints'](https://docs.microsoft.com/en-us/azure/machine-learning/how-to-troubleshoot-online-endpoints)\n",
    "\n",
    "ResourceNotReady errors happen when the liveness or readiness routes are specified incorrectly. If your deployment script is not readily available, check the environment settings with this command:\n",
    "\n",
    "```bash\n",
    "VERSION=`az ml online-deployment show -n $DEPLOYMENT_NAME --endpoint-name $ENDPOINT_NAME --query environment -o tsv`\n",
    "az ml environment show -n CliV2AnonymousEnvironment --version ${VERSION##*/}\n",
    "``` "
   ]
  },
  {
   "cell_type": "markdown",
   "metadata": {},
   "source": [
    "### Upstream Connect Error / Connection Failure\n",
    "Upstram connect errors happen when invoking an endpoint for a deployment with a dead or incorrect scoring route. Your error message may look like this `upstream connect error or disconnect/reset before headers. reset reason: connection failure`. Online deployments with incorrect scoring routes do not necessarily fail to deploy. "
   ]
  },
  {
   "cell_type": "markdown",
   "metadata": {},
   "source": [
    "## HTTP Errors \n",
    "### 104 (Connection Aborted / ConnectionResetError)\n",
    "\n",
    "Deployment not online and/or traffic is set to 0%. \n"
   ]
  }
 ],
 "metadata": {
  "interpreter": {
   "hash": "10f4ec0510a9071d39bc3e9b7eca370acb206b81b9d41e7e3cf4860d476614a2"
  },
  "kernelspec": {
   "display_name": "Python 3.9.7 ('base')",
   "language": "python",
   "name": "python3"
  },
  "language_info": {
   "codemirror_mode": {
    "name": "ipython",
    "version": 3
   },
   "file_extension": ".py",
   "mimetype": "text/x-python",
   "name": "python",
   "nbconvert_exporter": "python",
   "pygments_lexer": "ipython3",
   "version": "3.10.4"
  },
  "orig_nbformat": 4
 },
 "nbformat": 4,
 "nbformat_minor": 2
}
